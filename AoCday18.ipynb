{
 "cells": [
  {
   "cell_type": "code",
   "execution_count": 1,
   "metadata": {},
   "outputs": [],
   "source": [
    "import string\n",
    "import numpy as np, pandas as p\n",
    "import math \n",
    "from itertools import permutations \n",
    "\n",
    "from copy import copy\n",
    "\n",
    "inputs = {}\n",
    "\n",
    "with open(\"day18.txt\", \"r\") as f:\n",
    "    lines = [list(line.rstrip('\\n')) for line in f]"
   ]
  },
  {
   "cell_type": "code",
   "execution_count": 13,
   "metadata": {},
   "outputs": [
    {
     "data": {
      "text/plain": [
       "81"
      ]
     },
     "execution_count": 13,
     "metadata": {},
     "output_type": "execute_result"
    }
   ],
   "source": [
    "len(lines[1])"
   ]
  },
  {
   "cell_type": "code",
   "execution_count": 2,
   "metadata": {},
   "outputs": [],
   "source": [
    "inputs = {}\n",
    "\n",
    "for i in range(len(lines)):\n",
    "    for j in range(len(lines[0])):\n",
    "        inputs[(i,j)] = lines[i][j]"
   ]
  },
  {
   "cell_type": "code",
   "execution_count": 21,
   "metadata": {},
   "outputs": [],
   "source": [
    "key_doors = [value  for (key, value) in inputs.items() if value not in set(['.', '@','#'])]\n",
    "keys = set([x.lower() for x in key_doors])"
   ]
  },
  {
   "cell_type": "code",
   "execution_count": 67,
   "metadata": {},
   "outputs": [
    {
     "data": {
      "text/plain": [
       "26"
      ]
     },
     "execution_count": 67,
     "metadata": {},
     "output_type": "execute_result"
    }
   ],
   "source": [
    "len(keys)"
   ]
  },
  {
   "cell_type": "code",
   "execution_count": 33,
   "metadata": {},
   "outputs": [
    {
     "data": {
      "text/plain": [
       "[(59, 42)]"
      ]
     },
     "execution_count": 33,
     "metadata": {},
     "output_type": "execute_result"
    }
   ],
   "source": [
    "a_loc = [key for (key, value) in inputs.items() if value == 'A']\n",
    "a_loc"
   ]
  },
  {
   "cell_type": "code",
   "execution_count": 28,
   "metadata": {},
   "outputs": [
    {
     "data": {
      "text/plain": [
       "[(40, 40)]"
      ]
     },
     "execution_count": 28,
     "metadata": {},
     "output_type": "execute_result"
    }
   ],
   "source": [
    "start_loc = [key for (key, value) in inputs.items() if value == '@']\n",
    "start_loc"
   ]
  },
  {
   "cell_type": "code",
   "execution_count": 62,
   "metadata": {},
   "outputs": [],
   "source": [
    "grid = copy(inputs)\n",
    "dirs = {1: (0, -1), 2: (0, 1), 3: (-1, 0), 4: (1, 0)}\n"
   ]
  },
  {
   "cell_type": "code",
   "execution_count": 52,
   "metadata": {},
   "outputs": [
    {
     "data": {
      "text/plain": [
       "'a'"
      ]
     },
     "execution_count": 52,
     "metadata": {},
     "output_type": "execute_result"
    }
   ],
   "source": [
    "grid[(33,39)]"
   ]
  },
  {
   "cell_type": "code",
   "execution_count": 55,
   "metadata": {},
   "outputs": [
    {
     "data": {
      "text/plain": [
       "'a'"
      ]
     },
     "execution_count": 55,
     "metadata": {},
     "output_type": "execute_result"
    }
   ],
   "source": [
    "grid.get((33,39))"
   ]
  },
  {
   "cell_type": "code",
   "execution_count": 53,
   "metadata": {},
   "outputs": [],
   "source": [
    "grid = copy(inputs)\n",
    "dirs = {1: (0, -1), 2: (0, 1), 3: (-1, 0), 4: (1, 0)}\n",
    "\n",
    "#can_visit = copy(keys)\n",
    "#can_visit.add('.')\n",
    "#can_visit.add('@')\n",
    "\n",
    "def calc_steps(start_x, start_y, next_key, can_visit):\n",
    "    queue = [[]]\n",
    "    visited = set()\n",
    "    visited.add((start_x, start_y))  \n",
    "\n",
    "    target = None\n",
    "    num_steps = None\n",
    "    path = False\n",
    "    target_x = None\n",
    "    target_y = None\n",
    "    \n",
    "    while queue:\n",
    "        steps = queue.pop(0)\n",
    "        x, y = start_x, start_y\n",
    "        for step in steps:\n",
    "            x += dirs[step][0]\n",
    "            y += dirs[step][1]\n",
    "\n",
    "        for d in range(1, 5):\n",
    "            nx, ny = (x + dirs[d][0], y + dirs[d][1])\n",
    "            if grid.get((nx, ny)) in can_visit:\n",
    "                if (nx, ny) not in visited:\n",
    "                    queue.append(steps[:] + [d])\n",
    "                    visited.add((nx, ny))\n",
    "                    if grid.get((nx,ny)) == next_key:\n",
    "                        num_steps = len(steps) + 1\n",
    "                        #grid[(nx,ny)] = '.' #pick up key and change to . \n",
    "                        target_x, target_y = nx, ny\n",
    "                        can_visit.add(next_key.upper())\n",
    "                        path = True\n",
    "\n",
    "    return num_steps, path, target_x, target_y, can_visit                      "
   ]
  },
  {
   "cell_type": "code",
   "execution_count": 56,
   "metadata": {},
   "outputs": [],
   "source": [
    "#key_order = 'aAx'\n",
    "\n",
    "#def try_order(key_order):\n",
    "#    start_x, start_y = 40, 40\n",
    "#    total_steps = 0 \n",
    "#    possible = True\n",
    "    \n",
    "#    can_visit = copy(keys)\n",
    "#    can_visit.add('.')\n",
    "#    can_visit.add('@')\n",
    "    \n",
    "#    for i in range(len(key_order)):\n",
    "#        next_key = key_order[i]\n",
    "#        num_steps, path, target_x, target_y, can_visit = calc_steps(start_x, start_y, next_key, can_visit)\n",
    "#        if path == True:\n",
    "            #print(next_key)\n",
    "            #print('possible')\n",
    "#            total_steps += num_steps \n",
    "#            start_x, start_y = target_x, target_y\n",
    "#        else: \n",
    "#            possible = False\n",
    "#            break\n",
    "\n",
    "#    return total_steps, possible "
   ]
  },
  {
   "cell_type": "code",
   "execution_count": 82,
   "metadata": {},
   "outputs": [],
   "source": [
    "#refactor to only try last step:\n",
    "\n",
    "#can_visit = copy(keys)\n",
    "#can_visit.add('.')\n",
    "#can_visit.add('@')\n",
    "\n",
    "def try_order(key_order, prev_total, start_x, start_y):\n",
    "    #start_x, start_y = 40, 40\n",
    "    total_steps = prev_total \n",
    "    possible = True\n",
    "    \n",
    "    latest_x = None\n",
    "    latest_y = None\n",
    "    \n",
    "    can_visit = copy(keys)\n",
    "    can_visit.add('.')\n",
    "    can_visit.add('@')\n",
    "    for i in range(len(key_order)-1):\n",
    "        can_visit.add(key_order[i].upper())\n",
    "    \n",
    "    next_key = key_order[len(key_order)-1]\n",
    "    num_steps, path, target_x, target_y, can_visit = calc_steps(start_x, start_y, next_key, can_visit)\n",
    "    if path == True:\n",
    "        total_steps += num_steps \n",
    "        latest_x, latest_y = target_x, target_y\n",
    "    else: \n",
    "        possible = False\n",
    "        \n",
    "    return total_steps, possible, latest_x, latest_y "
   ]
  },
  {
   "cell_type": "code",
   "execution_count": 93,
   "metadata": {},
   "outputs": [
    {
     "ename": "KeyboardInterrupt",
     "evalue": "",
     "output_type": "error",
     "traceback": [
      "\u001b[0;31m---------------------------------------------------------------------------\u001b[0m",
      "\u001b[0;31mKeyboardInterrupt\u001b[0m                         Traceback (most recent call last)",
      "\u001b[0;32m<ipython-input-93-56ff97679132>\u001b[0m in \u001b[0;36m<module>\u001b[0;34m()\u001b[0m\n\u001b[1;32m     11\u001b[0m             \u001b[0;32mif\u001b[0m \u001b[0mkey\u001b[0m\u001b[0;34m.\u001b[0m\u001b[0mfind\u001b[0m\u001b[0;34m(\u001b[0m\u001b[0mj\u001b[0m\u001b[0;34m)\u001b[0m \u001b[0;34m==\u001b[0m\u001b[0;34m-\u001b[0m\u001b[0;36m1\u001b[0m\u001b[0;34m:\u001b[0m \u001b[0;31m#if hasn't been visited yet\u001b[0m\u001b[0;34m\u001b[0m\u001b[0m\n\u001b[1;32m     12\u001b[0m                 \u001b[0mkey\u001b[0m \u001b[0;34m=\u001b[0m \u001b[0mkey\u001b[0m \u001b[0;34m+\u001b[0m \u001b[0mj\u001b[0m\u001b[0;34m\u001b[0m\u001b[0m\n\u001b[0;32m---> 13\u001b[0;31m                 \u001b[0mtotal_steps\u001b[0m\u001b[0;34m,\u001b[0m \u001b[0mpossible\u001b[0m\u001b[0;34m,\u001b[0m \u001b[0mlatest_x\u001b[0m\u001b[0;34m,\u001b[0m \u001b[0mlatest_y\u001b[0m \u001b[0;34m=\u001b[0m \u001b[0mtry_order\u001b[0m\u001b[0;34m(\u001b[0m\u001b[0mkey\u001b[0m\u001b[0;34m,\u001b[0m \u001b[0mprev_total\u001b[0m\u001b[0;34m,\u001b[0m \u001b[0mstart_x\u001b[0m\u001b[0;34m,\u001b[0m \u001b[0mstart_y\u001b[0m\u001b[0;34m)\u001b[0m\u001b[0;34m\u001b[0m\u001b[0m\n\u001b[0m\u001b[1;32m     14\u001b[0m                 \u001b[0;32mif\u001b[0m \u001b[0mpossible\u001b[0m \u001b[0;34m==\u001b[0m \u001b[0mTrue\u001b[0m\u001b[0;34m:\u001b[0m\u001b[0;34m\u001b[0m\u001b[0m\n\u001b[1;32m     15\u001b[0m                     \u001b[0madd_one_running_paths\u001b[0m\u001b[0;34m.\u001b[0m\u001b[0mappend\u001b[0m\u001b[0;34m(\u001b[0m\u001b[0;34m[\u001b[0m\u001b[0mkey\u001b[0m\u001b[0;34m,\u001b[0m \u001b[0mtotal_steps\u001b[0m\u001b[0;34m,\u001b[0m \u001b[0mlatest_x\u001b[0m\u001b[0;34m,\u001b[0m \u001b[0mlatest_y\u001b[0m\u001b[0;34m]\u001b[0m\u001b[0;34m)\u001b[0m\u001b[0;34m\u001b[0m\u001b[0m\n",
      "\u001b[0;32m<ipython-input-82-a4e1a489b49a>\u001b[0m in \u001b[0;36mtry_order\u001b[0;34m(key_order, prev_total, start_x, start_y)\u001b[0m\n\u001b[1;32m     20\u001b[0m \u001b[0;34m\u001b[0m\u001b[0m\n\u001b[1;32m     21\u001b[0m     \u001b[0mnext_key\u001b[0m \u001b[0;34m=\u001b[0m \u001b[0mkey_order\u001b[0m\u001b[0;34m[\u001b[0m\u001b[0mlen\u001b[0m\u001b[0;34m(\u001b[0m\u001b[0mkey_order\u001b[0m\u001b[0;34m)\u001b[0m\u001b[0;34m-\u001b[0m\u001b[0;36m1\u001b[0m\u001b[0;34m]\u001b[0m\u001b[0;34m\u001b[0m\u001b[0m\n\u001b[0;32m---> 22\u001b[0;31m     \u001b[0mnum_steps\u001b[0m\u001b[0;34m,\u001b[0m \u001b[0mpath\u001b[0m\u001b[0;34m,\u001b[0m \u001b[0mtarget_x\u001b[0m\u001b[0;34m,\u001b[0m \u001b[0mtarget_y\u001b[0m\u001b[0;34m,\u001b[0m \u001b[0mcan_visit\u001b[0m \u001b[0;34m=\u001b[0m \u001b[0mcalc_steps\u001b[0m\u001b[0;34m(\u001b[0m\u001b[0mstart_x\u001b[0m\u001b[0;34m,\u001b[0m \u001b[0mstart_y\u001b[0m\u001b[0;34m,\u001b[0m \u001b[0mnext_key\u001b[0m\u001b[0;34m,\u001b[0m \u001b[0mcan_visit\u001b[0m\u001b[0;34m)\u001b[0m\u001b[0;34m\u001b[0m\u001b[0m\n\u001b[0m\u001b[1;32m     23\u001b[0m     \u001b[0;32mif\u001b[0m \u001b[0mpath\u001b[0m \u001b[0;34m==\u001b[0m \u001b[0mTrue\u001b[0m\u001b[0;34m:\u001b[0m\u001b[0;34m\u001b[0m\u001b[0m\n\u001b[1;32m     24\u001b[0m         \u001b[0mtotal_steps\u001b[0m \u001b[0;34m+=\u001b[0m \u001b[0mnum_steps\u001b[0m\u001b[0;34m\u001b[0m\u001b[0m\n",
      "\u001b[0;32m<ipython-input-53-61631449ec63>\u001b[0m in \u001b[0;36mcalc_steps\u001b[0;34m(start_x, start_y, next_key, can_visit)\u001b[0m\n\u001b[1;32m     21\u001b[0m         \u001b[0mx\u001b[0m\u001b[0;34m,\u001b[0m \u001b[0my\u001b[0m \u001b[0;34m=\u001b[0m \u001b[0mstart_x\u001b[0m\u001b[0;34m,\u001b[0m \u001b[0mstart_y\u001b[0m\u001b[0;34m\u001b[0m\u001b[0m\n\u001b[1;32m     22\u001b[0m         \u001b[0;32mfor\u001b[0m \u001b[0mstep\u001b[0m \u001b[0;32min\u001b[0m \u001b[0msteps\u001b[0m\u001b[0;34m:\u001b[0m\u001b[0;34m\u001b[0m\u001b[0m\n\u001b[0;32m---> 23\u001b[0;31m             \u001b[0mx\u001b[0m \u001b[0;34m+=\u001b[0m \u001b[0mdirs\u001b[0m\u001b[0;34m[\u001b[0m\u001b[0mstep\u001b[0m\u001b[0;34m]\u001b[0m\u001b[0;34m[\u001b[0m\u001b[0;36m0\u001b[0m\u001b[0;34m]\u001b[0m\u001b[0;34m\u001b[0m\u001b[0m\n\u001b[0m\u001b[1;32m     24\u001b[0m             \u001b[0my\u001b[0m \u001b[0;34m+=\u001b[0m \u001b[0mdirs\u001b[0m\u001b[0;34m[\u001b[0m\u001b[0mstep\u001b[0m\u001b[0;34m]\u001b[0m\u001b[0;34m[\u001b[0m\u001b[0;36m1\u001b[0m\u001b[0;34m]\u001b[0m\u001b[0;34m\u001b[0m\u001b[0m\n\u001b[1;32m     25\u001b[0m \u001b[0;34m\u001b[0m\u001b[0m\n",
      "\u001b[0;31mKeyboardInterrupt\u001b[0m: "
     ]
    }
   ],
   "source": [
    "#running_paths = add_one_running_paths \n",
    "for k in range(5):\n",
    "    add_one_running_paths = []\n",
    "\n",
    "    for i in range(len(running_paths)):\n",
    "        for j in list(keys):\n",
    "            key = running_paths[i][0] \n",
    "            prev_total = running_paths[i][1] \n",
    "            start_x = running_paths[i][2]\n",
    "            start_y = running_paths[i][3]\n",
    "            if key.find(j) ==-1: #if hasn't been visited yet \n",
    "                key = key + j \n",
    "                total_steps, possible, latest_x, latest_y = try_order(key, prev_total, start_x, start_y)\n",
    "                if possible == True:\n",
    "                    add_one_running_paths.append([key, total_steps, latest_x, latest_y]) \n",
    "\n",
    "    running_paths = add_one_running_paths           "
   ]
  },
  {
   "cell_type": "code",
   "execution_count": 92,
   "metadata": {},
   "outputs": [],
   "source": [
    "running_paths = add_one_running_paths"
   ]
  },
  {
   "cell_type": "code",
   "execution_count": 88,
   "metadata": {},
   "outputs": [
    {
     "data": {
      "text/plain": [
       "[['ah', 90, 25, 55],\n",
       " ['ap', 188, 1, 31],\n",
       " ['au', 58, 33, 17],\n",
       " ['aw', 136, 1, 73],\n",
       " ['av', 42, 27, 45],\n",
       " ['ay', 106, 1, 43],\n",
       " ['ax', 30, 33, 29]]"
      ]
     },
     "execution_count": 88,
     "metadata": {},
     "output_type": "execute_result"
    }
   ],
   "source": [
    "running_paths"
   ]
  },
  {
   "cell_type": "code",
   "execution_count": 89,
   "metadata": {},
   "outputs": [
    {
     "data": {
      "text/plain": [
       "58"
      ]
     },
     "execution_count": 89,
     "metadata": {},
     "output_type": "execute_result"
    }
   ],
   "source": [
    "running_paths[2][1]"
   ]
  },
  {
   "cell_type": "code",
   "execution_count": null,
   "metadata": {},
   "outputs": [],
   "source": []
  },
  {
   "cell_type": "code",
   "execution_count": 64,
   "metadata": {},
   "outputs": [
    {
     "data": {
      "text/plain": [
       "'ap'"
      ]
     },
     "execution_count": 64,
     "metadata": {},
     "output_type": "execute_result"
    }
   ],
   "source": [
    "running_paths[1][0]"
   ]
  },
  {
   "cell_type": "code",
   "execution_count": 65,
   "metadata": {},
   "outputs": [
    {
     "data": {
      "text/plain": [
       "7"
      ]
     },
     "execution_count": 65,
     "metadata": {},
     "output_type": "execute_result"
    }
   ],
   "source": [
    "len(running_paths)"
   ]
  },
  {
   "cell_type": "code",
   "execution_count": null,
   "metadata": {},
   "outputs": [],
   "source": []
  },
  {
   "cell_type": "code",
   "execution_count": null,
   "metadata": {},
   "outputs": [],
   "source": []
  },
  {
   "cell_type": "code",
   "execution_count": 9,
   "metadata": {},
   "outputs": [
    {
     "data": {
      "text/plain": [
       "'aAb'"
      ]
     },
     "execution_count": 9,
     "metadata": {},
     "output_type": "execute_result"
    }
   ],
   "source": [
    "key_order + 'b'"
   ]
  },
  {
   "cell_type": "code",
   "execution_count": 100,
   "metadata": {},
   "outputs": [
    {
     "data": {
      "text/plain": [
       "12"
      ]
     },
     "execution_count": 100,
     "metadata": {},
     "output_type": "execute_result"
    }
   ],
   "source": [
    "total_steps"
   ]
  },
  {
   "cell_type": "code",
   "execution_count": 95,
   "metadata": {},
   "outputs": [
    {
     "data": {
      "text/plain": [
       "'s'"
      ]
     },
     "execution_count": 95,
     "metadata": {},
     "output_type": "execute_result"
    }
   ],
   "source": [
    "key_order = 'asdfb'\n",
    "key_order[1]"
   ]
  },
  {
   "cell_type": "code",
   "execution_count": null,
   "metadata": {},
   "outputs": [],
   "source": []
  },
  {
   "cell_type": "code",
   "execution_count": null,
   "metadata": {},
   "outputs": [],
   "source": []
  },
  {
   "cell_type": "code",
   "execution_count": 93,
   "metadata": {},
   "outputs": [
    {
     "data": {
      "text/plain": [
       "(12,\n",
       " 33,\n",
       " 39,\n",
       " {'.',\n",
       "  'A',\n",
       "  'a',\n",
       "  'b',\n",
       "  'c',\n",
       "  'd',\n",
       "  'e',\n",
       "  'f',\n",
       "  'g',\n",
       "  'h',\n",
       "  'i',\n",
       "  'j',\n",
       "  'k',\n",
       "  'l',\n",
       "  'm',\n",
       "  'n',\n",
       "  'o',\n",
       "  'p',\n",
       "  'q',\n",
       "  'r',\n",
       "  's',\n",
       "  't',\n",
       "  'u',\n",
       "  'v',\n",
       "  'w',\n",
       "  'x',\n",
       "  'y',\n",
       "  'z'})"
      ]
     },
     "execution_count": 93,
     "metadata": {},
     "output_type": "execute_result"
    }
   ],
   "source": [
    "calc_steps(40, 40, 'a', can_visit)"
   ]
  }
 ],
 "metadata": {
  "kernelspec": {
   "display_name": "Python 2",
   "language": "python",
   "name": "python2"
  },
  "language_info": {
   "codemirror_mode": {
    "name": "ipython",
    "version": 2
   },
   "file_extension": ".py",
   "mimetype": "text/x-python",
   "name": "python",
   "nbconvert_exporter": "python",
   "pygments_lexer": "ipython2",
   "version": "2.7.16"
  }
 },
 "nbformat": 4,
 "nbformat_minor": 2
}
