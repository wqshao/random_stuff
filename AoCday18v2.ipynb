{
 "cells": [
  {
   "cell_type": "code",
   "execution_count": 1,
   "metadata": {},
   "outputs": [],
   "source": [
    "import string\n",
    "import numpy as np, pandas as p\n",
    "import math \n",
    "from itertools import permutations \n",
    "\n",
    "from copy import copy\n",
    "\n",
    "inputs = {}\n",
    "\n",
    "with open(\"day18.txt\", \"r\") as f:\n",
    "    lines = [list(line.rstrip('\\n')) for line in f]"
   ]
  },
  {
   "cell_type": "code",
   "execution_count": 2,
   "metadata": {},
   "outputs": [],
   "source": [
    "inputs = {}\n",
    "\n",
    "for i in range(len(lines)):\n",
    "    for j in range(len(lines[0])):\n",
    "        inputs[(i,j)] = lines[i][j]"
   ]
  },
  {
   "cell_type": "code",
   "execution_count": 3,
   "metadata": {},
   "outputs": [],
   "source": [
    "key_doors = [value  for (key, value) in inputs.items() if value not in set(['.', '@','#'])]\n",
    "keys = set([x.lower() for x in key_doors])\n",
    "doors = set([x.upper() for x in key_doors])"
   ]
  },
  {
   "cell_type": "code",
   "execution_count": 8,
   "metadata": {},
   "outputs": [],
   "source": []
  },
  {
   "cell_type": "code",
   "execution_count": 9,
   "metadata": {},
   "outputs": [
    {
     "data": {
      "text/plain": [
       "{'A',\n",
       " 'B',\n",
       " 'C',\n",
       " 'D',\n",
       " 'E',\n",
       " 'F',\n",
       " 'G',\n",
       " 'H',\n",
       " 'I',\n",
       " 'J',\n",
       " 'K',\n",
       " 'L',\n",
       " 'M',\n",
       " 'N',\n",
       " 'O',\n",
       " 'P',\n",
       " 'Q',\n",
       " 'R',\n",
       " 'S',\n",
       " 'T',\n",
       " 'U',\n",
       " 'V',\n",
       " 'W',\n",
       " 'X',\n",
       " 'Y',\n",
       " 'Z'}"
      ]
     },
     "execution_count": 9,
     "metadata": {},
     "output_type": "execute_result"
    }
   ],
   "source": [
    "doors"
   ]
  },
  {
   "cell_type": "code",
   "execution_count": 4,
   "metadata": {},
   "outputs": [],
   "source": [
    "a_loc = [key for (key, value) in inputs.items() if value == 'a']\n"
   ]
  },
  {
   "cell_type": "code",
   "execution_count": 7,
   "metadata": {},
   "outputs": [
    {
     "data": {
      "text/plain": [
       "33"
      ]
     },
     "execution_count": 7,
     "metadata": {},
     "output_type": "execute_result"
    }
   ],
   "source": [
    "[key for (key, value) in inputs.items() if value == 'a'][0][0]"
   ]
  },
  {
   "cell_type": "code",
   "execution_count": null,
   "metadata": {},
   "outputs": [],
   "source": [
    "pairwise_info = [] \n",
    "\n",
    "for i in list(keys):\n",
    "    for j in list(keys):\n",
    "        start_x = [key for (key, value) in inputs.items() if value == i ][0][0]\n",
    "        start_y = [key for (key, value) in inputs.items() if value == i ][0][1]\n",
    "        next_key = j \n",
    "        \n",
    "        num_steps, path, target_x, target_y, doors = calc_steps(start_x, start_y, next_key)\n",
    "        if path == True:\n",
    "            pairwise_info.append([i,j,num_steps,doors])\n",
    "        "
   ]
  },
  {
   "cell_type": "code",
   "execution_count": 38,
   "metadata": {},
   "outputs": [
    {
     "data": {
      "text/plain": [
       "[['a', 'c', 84, ['U']],\n",
       " ['a', 'b', 330, ['N', 'S']],\n",
       " ['a', 'e', 310, ['N', 'S']],\n",
       " ['a', 'd', 406, ['N', 'S', 'J', 'Q', 'M']],\n",
       " ['a', 'g', 214, ['V', 'O']],\n",
       " ['a', 'f', 242, ['G', 'T']],\n",
       " ['a', 'i', 254, ['G', 'T']],\n",
       " ['a', 'h', 100, []],\n",
       " ['a', 'k', 302, ['G', 'T', 'R']],\n",
       " ['a', 'j', 362, ['G', 'T', 'R', 'E', 'B', 'L']],\n",
       " ['a', 'm', 394, ['N', 'S', 'J', 'Q']],\n",
       " ['a', 'l', 344, ['N', 'S']],\n",
       " ['a', 'o', 184, ['A', 'Y', 'W']],\n",
       " ['a', 'n', 160, ['V']],\n",
       " ['a', 'q', 374, ['N', 'S', 'J']],\n",
       " ['a', 'p', 192, []],\n",
       " ['a', 's', 270, ['G', 'T']],\n",
       " ['a', 'r', 282, ['N', 'S']],\n",
       " ['a', 'u', 62, []],\n",
       " ['a', 't', 222, ['V']],\n",
       " ['a', 'w', 146, []],\n",
       " ['a', 'v', 52, []],\n",
       " ['a', 'y', 116, []],\n",
       " ['a', 'x', 34, []],\n",
       " ['a', 'z', 138, ['A', 'Y']],\n",
       " ['c', 'a', 84, ['U']],\n",
       " ['c', 'b', 398, ['U', 'N', 'S']],\n",
       " ['c', 'e', 378, ['U', 'N', 'S']],\n",
       " ['c', 'd', 474, ['U', 'N', 'S', 'J', 'Q', 'M']],\n",
       " ['c', 'g', 278, ['U', 'V', 'O']],\n",
       " ['c', 'f', 182, ['U', 'G', 'T']],\n",
       " ['c', 'i', 194, ['U', 'G', 'T']],\n",
       " ['c', 'h', 88, ['U']],\n",
       " ['c', 'k', 242, ['U', 'G', 'T', 'R']],\n",
       " ['c', 'j', 302, ['U', 'G', 'T', 'R', 'E', 'B', 'L']],\n",
       " ['c', 'm', 462, ['U', 'N', 'S', 'J', 'Q']],\n",
       " ['c', 'l', 412, ['U', 'N', 'S']],\n",
       " ['c', 'o', 244, ['U', 'A', 'Y', 'W']],\n",
       " ['c', 'n', 224, ['U', 'V']],\n",
       " ['c', 'q', 442, ['U', 'N', 'S', 'J']],\n",
       " ['c', 'p', 260, ['U']],\n",
       " ['c', 's', 210, ['U', 'G', 'T']],\n",
       " ['c', 'r', 350, ['U', 'N', 'S']],\n",
       " ['c', 'u', 130, ['U']],\n",
       " ['c', 't', 286, ['U', 'V']],\n",
       " ['c', 'w', 134, ['U']],\n",
       " ['c', 'v', 32, ['U']],\n",
       " ['c', 'y', 104, ['U']]]"
      ]
     },
     "execution_count": 38,
     "metadata": {},
     "output_type": "execute_result"
    }
   ],
   "source": [
    "pairwise_info"
   ]
  },
  {
   "cell_type": "code",
   "execution_count": 22,
   "metadata": {},
   "outputs": [
    {
     "data": {
      "text/plain": [
       "{'A',\n",
       " 'B',\n",
       " 'C',\n",
       " 'D',\n",
       " 'E',\n",
       " 'F',\n",
       " 'G',\n",
       " 'H',\n",
       " 'I',\n",
       " 'J',\n",
       " 'K',\n",
       " 'L',\n",
       " 'M',\n",
       " 'N',\n",
       " 'O',\n",
       " 'P',\n",
       " 'Q',\n",
       " 'R',\n",
       " 'S',\n",
       " 'T',\n",
       " 'U',\n",
       " 'V',\n",
       " 'W',\n",
       " 'X',\n",
       " 'Y',\n",
       " 'Z'}"
      ]
     },
     "execution_count": 22,
     "metadata": {},
     "output_type": "execute_result"
    }
   ],
   "source": [
    "door_barriers"
   ]
  },
  {
   "cell_type": "code",
   "execution_count": 33,
   "metadata": {},
   "outputs": [],
   "source": [
    "grid = copy(inputs)\n",
    "dirs = {1: (0, -1), 2: (0, 1), 3: (-1, 0), 4: (1, 0)}\n",
    "\n",
    "door_barriers = copy(doors)\n",
    "#can_visit.add('.')\n",
    "#can_visit.add('@')\n",
    "\n",
    "def calc_steps(start_x, start_y, next_key):\n",
    "    queue = [[]]\n",
    "    visited = set()\n",
    "    visited.add((start_x, start_y))  \n",
    "    door_blocks = []\n",
    "    \n",
    "    target = None\n",
    "    num_steps = None\n",
    "    path = False\n",
    "    target_x = None\n",
    "    target_y = None\n",
    "    \n",
    "    while queue:\n",
    "        steps = queue.pop(0)\n",
    "        x, y = start_x, start_y\n",
    "        for step in steps:\n",
    "            x += dirs[step][0]\n",
    "            y += dirs[step][1]\n",
    "\n",
    "        for d in range(1, 5):\n",
    "            nx, ny = (x + dirs[d][0], y + dirs[d][1])\n",
    "            if grid.get((nx, ny)) != '#':\n",
    "                if (nx, ny) not in visited:\n",
    "                    queue.append(steps[:] + [d])\n",
    "                    visited.add((nx, ny))\n",
    "                    if grid.get((nx,ny)) == next_key:\n",
    "                        num_steps = len(steps) + 1\n",
    "                        target_x, target_y = nx, ny\n",
    "                        path = True\n",
    "                        \n",
    "                        #print(steps)\n",
    "                        x, y = start_x, start_y\n",
    "                        for step in steps:\n",
    "                            x += dirs[step][0]\n",
    "                            y += dirs[step][1]\n",
    "                            if grid.get((x,y)) in door_barriers:\n",
    "                                door_blocks.append(grid.get((x,y)))    \n",
    "         \n",
    "    return num_steps, path, target_x, target_y, door_blocks   "
   ]
  },
  {
   "cell_type": "code",
   "execution_count": null,
   "metadata": {},
   "outputs": [],
   "source": []
  },
  {
   "cell_type": "code",
   "execution_count": 36,
   "metadata": {},
   "outputs": [
    {
     "data": {
      "text/plain": [
       "(74, True, 33, 63, ['U'])"
      ]
     },
     "execution_count": 36,
     "metadata": {},
     "output_type": "execute_result"
    }
   ],
   "source": [
    "calc_steps(40, 40, 'c')"
   ]
  }
 ],
 "metadata": {
  "kernelspec": {
   "display_name": "Python 2",
   "language": "python",
   "name": "python2"
  },
  "language_info": {
   "codemirror_mode": {
    "name": "ipython",
    "version": 2
   },
   "file_extension": ".py",
   "mimetype": "text/x-python",
   "name": "python",
   "nbconvert_exporter": "python",
   "pygments_lexer": "ipython2",
   "version": "2.7.16"
  }
 },
 "nbformat": 4,
 "nbformat_minor": 2
}
